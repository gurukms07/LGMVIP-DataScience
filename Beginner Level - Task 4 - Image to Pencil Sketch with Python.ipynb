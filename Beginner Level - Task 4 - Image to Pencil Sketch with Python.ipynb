{
 "cells": [
  {
   "cell_type": "markdown",
   "id": "59bbfcb5",
   "metadata": {},
   "source": [
    "# Image to Pencil Sketch with Python"
   ]
  },
  {
   "cell_type": "code",
   "execution_count": 1,
   "id": "8cdfefe9",
   "metadata": {},
   "outputs": [],
   "source": [
    "import cv2"
   ]
  },
  {
   "cell_type": "markdown",
   "id": "279f1c17",
   "metadata": {},
   "source": [
    "# Reading the Image"
   ]
  },
  {
   "cell_type": "code",
   "execution_count": 2,
   "id": "d53f6dff",
   "metadata": {},
   "outputs": [],
   "source": [
    "image = cv2.imread(\"lion.jpeg\")\n"
   ]
  },
  {
   "cell_type": "code",
   "execution_count": null,
   "id": "b7ae66a0",
   "metadata": {},
   "outputs": [],
   "source": [
    "cv2.imshow(\"Lion\", image)\n",
    "cv2.waitKey(0)"
   ]
  },
  {
   "cell_type": "markdown",
   "id": "bc0239e4",
   "metadata": {},
   "source": [
    "# Convert Original image to Grayscale image"
   ]
  },
  {
   "cell_type": "code",
   "execution_count": null,
   "id": "43771657",
   "metadata": {},
   "outputs": [],
   "source": [
    "gray_image = cv2.cvtColor(image, cv2.COLOR_BGR2GRAY)\n",
    "cv2.imshow(\"Gray Scale Lion Image\", gray_image)\n",
    "cv2.waitKey(0)"
   ]
  },
  {
   "cell_type": "markdown",
   "id": "f91449dd",
   "metadata": {},
   "source": [
    "# Convert to Inverted Gray Scale Image"
   ]
  },
  {
   "cell_type": "code",
   "execution_count": null,
   "id": "9aaac2dc",
   "metadata": {},
   "outputs": [],
   "source": [
    "inverted_image = 255 - gray_image\n",
    "cv2.imshow(\"Inverted Lion Image\", inverted_image)\n",
    "cv2.waitKey()"
   ]
  },
  {
   "cell_type": "markdown",
   "id": "af72242f",
   "metadata": {},
   "source": [
    "# Process to Blur the Image by using the Gaussian Function in OpenCV"
   ]
  },
  {
   "cell_type": "code",
   "execution_count": null,
   "id": "09b7e7b8",
   "metadata": {},
   "outputs": [],
   "source": [
    "blurred = cv2.GaussianBlur(inverted_image, (21, 21), 0)"
   ]
  },
  {
   "cell_type": "markdown",
   "id": "bb9da598",
   "metadata": {},
   "source": [
    "# Then the final step is to invert the blurred image, then we can easily convert the image into a pencil sketch:"
   ]
  },
  {
   "cell_type": "code",
   "execution_count": null,
   "id": "5727d8ed",
   "metadata": {},
   "outputs": [],
   "source": [
    "inverted_blurred = 255 - blurred\n",
    "pencil_sketch = cv2.divide(gray_image, inverted_blurred, scale=256.0)\n",
    "cv2.imshow(\"Pencil Sketch\", pencil_sketch)\n",
    "cv2.waitKey(0)"
   ]
  },
  {
   "cell_type": "markdown",
   "id": "4500a71b",
   "metadata": {},
   "source": [
    "# We can compare both original and Pencil Image"
   ]
  },
  {
   "cell_type": "code",
   "execution_count": null,
   "id": "733415c9",
   "metadata": {},
   "outputs": [],
   "source": [
    "cv2.imshow(\"original image\", image)\n",
    "cv2.imshow(\"pencil Sketch Image\", pencil_sketch)\n",
    "cv2.waitKey(0)"
   ]
  },
  {
   "cell_type": "markdown",
   "id": "17b939cf",
   "metadata": {},
   "source": [
    "# Thank You"
   ]
  }
 ],
 "metadata": {
  "kernelspec": {
   "display_name": "Python 3 (ipykernel)",
   "language": "python",
   "name": "python3"
  },
  "language_info": {
   "codemirror_mode": {
    "name": "ipython",
    "version": 3
   },
   "file_extension": ".py",
   "mimetype": "text/x-python",
   "name": "python",
   "nbconvert_exporter": "python",
   "pygments_lexer": "ipython3",
   "version": "3.9.7"
  }
 },
 "nbformat": 4,
 "nbformat_minor": 5
}
